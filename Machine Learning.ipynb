{
 "cells": [
  {
   "cell_type": "markdown",
   "metadata": {},
   "source": [
    "### Machine Learning"
   ]
  },
  {
   "cell_type": "markdown",
   "metadata": {},
   "source": [
    "1. The process by which machines learn themselves from their daily experience by doing different tasks and make decisions on their own."
   ]
  },
  {
   "cell_type": "markdown",
   "metadata": {},
   "source": [
    "2. There are two types of machine learning:\n",
    "   a. Supervised Learning\n",
    "   b. Unsupervised Learning\n",
    "   c. Reinforcement"
   ]
  },
  {
   "cell_type": "markdown",
   "metadata": {},
   "source": [
    "a. Supervised Learning --- Computer learn when it is presented with examples of input and desired output and it itself input with output"
   ]
  },
  {
   "cell_type": "markdown",
   "metadata": {},
   "source": [
    "b. Unsupervised Learning --- When no examples of input and ouput are provided to the computer. Thus, it learn about the structure on its own."
   ]
  },
  {
   "cell_type": "markdown",
   "metadata": {},
   "source": [
    "c. Reinforcement--- When a machine learn from the environment it is dealing with and draw different conclusions based on the experience to get achieve maximum goal."
   ]
  },
  {
   "cell_type": "markdown",
   "metadata": {},
   "source": [
    "# Machine Learning and Data Science Framework"
   ]
  },
  {
   "cell_type": "markdown",
   "metadata": {},
   "source": [
    "Frame work to use:\n",
    "1. Problem Defination\n",
    "2. Data \n",
    "3. Evaluation\n",
    "4. Features\n",
    "5. Modelling\n",
    "6. Experimentation"
   ]
  },
  {
   "cell_type": "markdown",
   "metadata": {},
   "source": [
    "# Problem Defination"
   ]
  },
  {
   "cell_type": "markdown",
   "metadata": {},
   "source": [
    " Main types of machine learning\n",
    "1. Supervised Learning\n",
    "2. Unsupervised Learning\n",
    "3. Transfer Learning \n"
   ]
  },
  {
   "cell_type": "markdown",
   "metadata": {},
   "source": [
    "Main types of Supervised learning are:\n",
    "    1. Classification\n",
    "    2. Regression"
   ]
  },
  {
   "cell_type": "markdown",
   "metadata": {},
   "source": [
    "****Classification is predicting if one thing or  another thing\n",
    "\n",
    "Two types of classifications:\n",
    "1. Binary Classification -- if there are only two options\n",
    "2. Muli-class classifiaction---  if there are more than two options\n",
    "\n"
   ]
  },
  {
   "cell_type": "markdown",
   "metadata": {},
   "source": [
    "***Regression:\n",
    "    Regression problem deals with finding a number based on the   \n",
    "    data available\n",
    "    \n",
    "    \n",
    "    "
   ]
  },
  {
   "cell_type": "markdown",
   "metadata": {},
   "source": [
    "*Unsupervised Learning has data but no labels\n",
    "  Thus after analysing data labels will be made.\n",
    "\n",
    "* Transfer supervision: \n",
    "    Transfer learning seeks to leverage unlabelled data in the   \n",
    "    target task or domain to the most effect.\n",
    "    \n",
    "    \n",
    "    \n",
    "    \n",
    "\n",
    "\n"
   ]
  },
  {
   "cell_type": "markdown",
   "metadata": {},
   "source": [
    "## Types of Data"
   ]
  },
  {
   "cell_type": "markdown",
   "metadata": {},
   "source": [
    "1. Structured Data ---  having rows and colums\n",
    "2. Unstructured Data --- having pictures  or audio"
   ]
  },
  {
   "cell_type": "markdown",
   "metadata": {},
   "source": [
    "** Static Data -which does not change with time e.g CSV files\n",
    "\n",
    "** Streaming Data --- which changes with time e.g Stocks data\n",
    "\n"
   ]
  },
  {
   "cell_type": "markdown",
   "metadata": {},
   "source": [
    "# Types of Evaluation"
   ]
  },
  {
   "cell_type": "markdown",
   "metadata": {},
   "source": [
    "Different Types of metrics:\n",
    "    * Accuracy\n",
    "    * Precision\n",
    "    * Recall\n",
    "     and many more"
   ]
  },
  {
   "cell_type": "markdown",
   "metadata": {},
   "source": [
    "### Features in Data"
   ]
  },
  {
   "cell_type": "markdown",
   "metadata": {},
   "source": [
    "Features means what we already know about data.\n",
    "There are numerical features e.g. heart rate and categorical data. e.g. sex.\n"
   ]
  },
  {
   "cell_type": "markdown",
   "metadata": {},
   "source": [
    "# Modelling"
   ]
  },
  {
   "cell_type": "markdown",
   "metadata": {},
   "source": [
    "Modelling can be divided into three parts:\n",
    "    1. Choosing and training a model\n",
    "    2. Tuning a model\n",
    "    3. Model Comparison\n",
    "    \n",
    "Data---- training -- validation --- Test\n",
    "\n",
    "Generalization---- The ability for a machine learning model to perform well on data it has not seen before. \n",
    "\n",
    "**** Choosing a model\n",
    "\n",
    "For structured data\n",
    "* CatBoost\n",
    "* Random Forest\n",
    "* XGBoost\n",
    "\n",
    "For Unstructured data\n",
    "* Deep Learning\n",
    "* Transfer Learning\n",
    "\n",
    "* Some models work better than others on different problems\n",
    "* Don't be afraid to try things\n",
    "* Satrt small and build up and add complexity as you need\n",
    "\n",
    "\n",
    "**** Tuning a Model***\n",
    "\n",
    "* Machine Learning (M)L models have hyperparameters you can adjust.\n",
    "\n",
    "* Hyperparameter is a parameter that is set before the learning process begins.\n",
    "\n",
    "* A models first results aren't its last\n",
    "\n",
    "* Tuning can take place on training or validating data sets.\n",
    "\n",
    "\n",
    "**** Model Comparison****\n",
    "\n",
    "1. Underfitting\n",
    "2. Overfitting\n",
    "3. Balanced (Goldilocks zone)\n",
    "\n",
    "*** Data leakage takes place when some of the test data leaks on \n",
    "    the training data. thus it cause overfitting.\n",
    "    \n",
    "*** Data mismatch take place when our test data is different from training data. This it cause underfitting.\n",
    "\n",
    "Underfitting can be controlled by:\n",
    "1. try more advanced model\n",
    "2. increase model hyperparameters\n",
    "3. reduce amount of features\n",
    "4. train longer\n",
    "\n",
    "\n",
    "Overfitting can be controlled by:\n",
    "Collect more data\n",
    "try a less advanced model\n",
    "\n",
    "Things to remember:\n",
    "* Avoid overfitting and underfitting\n",
    "* Keep the test set separate at all costs\n",
    "* One best performance metric does not equal best model\n",
    "\n",
    "*** Last step is to do Experimentation"
   ]
  },
  {
   "cell_type": "code",
   "execution_count": null,
   "metadata": {},
   "outputs": [],
   "source": []
  }
 ],
 "metadata": {
  "kernelspec": {
   "display_name": "Python 3",
   "language": "python",
   "name": "python3"
  },
  "language_info": {
   "codemirror_mode": {
    "name": "ipython",
    "version": 3
   },
   "file_extension": ".py",
   "mimetype": "text/x-python",
   "name": "python",
   "nbconvert_exporter": "python",
   "pygments_lexer": "ipython3",
   "version": "3.8.5"
  }
 },
 "nbformat": 4,
 "nbformat_minor": 4
}
